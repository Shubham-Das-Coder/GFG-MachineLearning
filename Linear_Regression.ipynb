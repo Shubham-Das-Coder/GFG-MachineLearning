{
  "nbformat": 4,
  "nbformat_minor": 0,
  "metadata": {
    "colab": {
      "name": "Linear_Regression.ipynb",
      "provenance": [],
      "collapsed_sections": [],
      "authorship_tag": "ABX9TyOWUk39VUR+drmD/MN7X1dD",
      "include_colab_link": true
    },
    "kernelspec": {
      "name": "python3",
      "display_name": "Python 3"
    },
    "language_info": {
      "name": "python"
    }
  },
  "cells": [
    {
      "cell_type": "markdown",
      "metadata": {
        "id": "view-in-github",
        "colab_type": "text"
      },
      "source": [
        "<a href=\"https://colab.research.google.com/github/Shubham-Das-Coder/GFG-MachineLearning/blob/main/Linear_Regression.ipynb\" target=\"_parent\"><img src=\"https://colab.research.google.com/assets/colab-badge.svg\" alt=\"Open In Colab\"/></a>"
      ]
    },
    {
      "cell_type": "code",
      "execution_count": 1,
      "metadata": {
        "colab": {
          "base_uri": "https://localhost:8080/",
          "height": 334
        },
        "id": "9AFrUNRLBmUn",
        "outputId": "da0afeeb-2816-4db7-b7f8-2a758343cc6b"
      },
      "outputs": [
        {
          "output_type": "display_data",
          "data": {
            "image/png": "[encoded data removed]",
            "text/plain": [
              "<Figure size 216x360 with 1 Axes>"
            ]
          },
          "metadata": {
            "needs_background": "light"
          }
        }
      ],
      "source": [
        "# Importing libraries\n",
        "import numpy as np\n",
        "import matplotlib.pyplot as plt\n",
        "from sklearn.linear_model import LinearRegression\n",
        "\n",
        "x = 11 * np.random.random((10, 1))\n",
        "\n",
        "# y = a * x + b\n",
        "y = 1.0 * x + 3.0\n",
        "\n",
        "# Create a linear regression model\n",
        "model = LinearRegression()\n",
        "model.fit(x, y)\n",
        "\n",
        "# Predict y from the data where the x is predicted from the x\n",
        "x_pred = np.linspace(0, 11, 100)\n",
        "y_pred = model.predict(x_pred[:, np.newaxis])\n",
        "\n",
        "# Plot the results\n",
        "plt.figure(figsize =(3, 5))\n",
        "ax = plt.axes()\n",
        "ax.scatter(x, y)\n",
        "\n",
        "ax.plot(x_pred, y_pred)\n",
        "ax.set_xlabel('predictors')\n",
        "ax.set_ylabel('criterion')\n",
        "ax.axis('tight')\n",
        "\n",
        "plt.show()"
      ]
    }
  ]
}