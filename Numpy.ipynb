{
  "nbformat": 4,
  "nbformat_minor": 0,
  "metadata": {
    "colab": {
      "name": "Numpy.ipynb",
      "provenance": [],
      "collapsed_sections": [],
      "authorship_tag": "ABX9TyPCg1S3A7/3PwiBvDHzc+KJ",
      "include_colab_link": true
    },
    "kernelspec": {
      "name": "python3",
      "display_name": "Python 3"
    },
    "language_info": {
      "name": "python"
    }
  },
  "cells": [
    {
      "cell_type": "markdown",
      "metadata": {
        "id": "view-in-github",
        "colab_type": "text"
      },
      "source": [
        "<a href=\"https://colab.research.google.com/github/Shubham-Das-Coder/GFG_MachineLearning/blob/main/Numpy.ipynb\" target=\"_parent\"><img src=\"https://colab.research.google.com/assets/colab-badge.svg\" alt=\"Open In Colab\"/></a>"
      ]
    },
    {
      "cell_type": "code",
      "execution_count": 1,
      "metadata": {
        "colab": {
          "base_uri": "https://localhost:8080/"
        },
        "id": "UOap9gEVeQKj",
        "outputId": "452c348f-156b-4c7e-c4b9-584ab2e10a04"
      },
      "outputs": [
        {
          "output_type": "stream",
          "name": "stdout",
          "text": [
            "219 \n",
            "\n",
            "[29 67] \n",
            "\n",
            "[[19 22]\n",
            " [43 50]]\n"
          ]
        }
      ],
      "source": [
        "# Python program using NumPy\n",
        "# for some basic mathematical\n",
        "# operations\n",
        " \n",
        "import numpy as np\n",
        " \n",
        "# Creating two arrays of rank 2\n",
        "x = np.array([[1, 2], [3, 4]])\n",
        "y = np.array([[5, 6], [7, 8]])\n",
        " \n",
        "# Creating two arrays of rank 1\n",
        "v = np.array([9, 10])\n",
        "w = np.array([11, 12])\n",
        " \n",
        "# Inner product of vectors\n",
        "print(np.dot(v, w), \"\\n\")\n",
        " \n",
        "# Matrix and Vector product\n",
        "print(np.dot(x, v), \"\\n\")\n",
        " \n",
        "# Matrix and matrix product\n",
        "print(np.dot(x, y))"
      ]
    }
  ]
}