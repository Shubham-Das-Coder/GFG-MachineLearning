{
  "nbformat": 4,
  "nbformat_minor": 0,
  "metadata": {
    "colab": {
      "name": "Theano.ipynb",
      "provenance": [],
      "collapsed_sections": [],
      "authorship_tag": "ABX9TyPqFkvolLusAnR1bUJSYI1y",
      "include_colab_link": true
    },
    "kernelspec": {
      "name": "python3",
      "display_name": "Python 3"
    },
    "language_info": {
      "name": "python"
    }
  },
  "cells": [
    {
      "cell_type": "markdown",
      "metadata": {
        "id": "view-in-github",
        "colab_type": "text"
      },
      "source": [
        "<a href=\"https://colab.research.google.com/github/Shubham-Das-Coder/GFG-MachineLearning/blob/main/Theano.ipynb\" target=\"_parent\"><img src=\"https://colab.research.google.com/assets/colab-badge.svg\" alt=\"Open In Colab\"/></a>"
      ]
    },
    {
      "cell_type": "code",
      "execution_count": 1,
      "metadata": {
        "colab": {
          "base_uri": "https://localhost:8080/"
        },
        "id": "Iwe-pMCVp4_-",
        "outputId": "1ba9c97e-7b15-4d5a-9b38-f168646a5199"
      },
      "outputs": [
        {
          "output_type": "execute_result",
          "data": {
            "text/plain": [
              "array([[0.5       , 0.73105858],\n",
              "       [0.26894142, 0.11920292]])"
            ]
          },
          "metadata": {},
          "execution_count": 1
        }
      ],
      "source": [
        "# Python program using Theano\n",
        "# for computing a Logistic\n",
        "# Function\n",
        "\n",
        "import theano\n",
        "import theano.tensor as T\n",
        "x = T.dmatrix('x')\n",
        "s = 1 / (1 + T.exp(-x))\n",
        "logistic = theano.function([x], s)\n",
        "logistic([[0, 1], [-1, -2]])"
      ]
    }
  ]
}